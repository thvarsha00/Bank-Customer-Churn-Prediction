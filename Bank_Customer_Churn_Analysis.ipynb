{
  "nbformat": 4,
  "nbformat_minor": 0,
  "metadata": {
    "colab": {
      "provenance": [],
      "authorship_tag": "ABX9TyPyylhWiaYk9p+eUtCQzHCz",
      "include_colab_link": true
    },
    "kernelspec": {
      "name": "python3",
      "display_name": "Python 3"
    },
    "language_info": {
      "name": "python"
    }
  },
  "cells": [
    {
      "cell_type": "markdown",
      "metadata": {
        "id": "view-in-github",
        "colab_type": "text"
      },
      "source": [
        "<a href=\"https://colab.research.google.com/github/thvarsha00/Bank-Customer-Churn-Prediction/blob/main/Bank_Customer_Churn_Analysis.ipynb\" target=\"_parent\"><img src=\"https://colab.research.google.com/assets/colab-badge.svg\" alt=\"Open In Colab\"/></a>"
      ]
    },
    {
      "cell_type": "markdown",
      "source": [
        "# **PROJECT TITLE:-**   Bank Customer Churn Prediction Analysis with machine learning"
      ],
      "metadata": {
        "id": "G1v8vgNFiYqf"
      }
    },
    {
      "cell_type": "markdown",
      "source": [
        "# This project explores a customer dataset to predict churn and uncover key factors driving customer attrition.\n",
        "# Using a combination of Exploratory Data Analysis (EDA), feature engineering, clustering, and predictive modeling, we identify variables such as tenure, monthly charges, contract type, and payment method as strong predictors of churn.\n",
        "# The analysis highlights actionable insights for customer retention and provides a foundation for building robust predictive models."
      ],
      "metadata": {
        "id": "OLC_y254ijkM"
      }
    },
    {
      "cell_type": "markdown",
      "source": [
        "# **Problem Statement**\n",
        "\n",
        "# The objective of this project is to analyze the key factors influencing customer churn and build predictive models to identify customers likely to leave.\n",
        "\n",
        "# The workflow includes:\n",
        "\n",
        "# **Exploratory Data Analysis (EDA**): Univariate, bivariate, and multivariate analysis to explore customer behavior patterns.\n",
        "\n",
        "# **Feature Engineering**: Encoding categorical variables, scaling numerical features, and optional dimensionality reduction.\n",
        "\n",
        "# **Clustering & Segmentation**: Using PCA and DBSCAN to identify customer segments.\n",
        "\n",
        "# **Predictive Modeling**: Logistic Regression (Lasso & ElasticNet), Random Forest, and XGBoost with hyperparameter tuning.\n",
        "\n",
        "#**Model Validation**: Evaluating models via confusion matrices, precision-recall curves, ROC AUC, and F1 score.\n",
        "\n",
        "# **Interpretation & Explainability**: Feature importance, coefficients, and SHAP analysis to identify top churn drivers.\n",
        "\n",
        "# **Model export**: Saving trained models (e.g., model.save('churn_model.h5') for neural networks) for future use and real-time predictions.\n"
      ],
      "metadata": {
        "id": "5J3OTGcai1xo"
      }
    },
    {
      "cell_type": "markdown",
      "source": [
        "# **DATASET**\n",
        "# **Name:** Customer Churn Dataset\n",
        "# **Description:**\n",
        "# The dataset contains customer demographic and transactional data, including variables such as tenure, contract type, monthly charges, payment method, gender, and service usage.\n",
        "\n",
        "# **Target variable**: churn → 1 = churned, 0 = retained"
      ],
      "metadata": {
        "id": "T56LKwi5kVPw"
      }
    },
    {
      "cell_type": "markdown",
      "source": [
        "#**1.import required libraries**"
      ],
      "metadata": {
        "id": "EEJRproGUknB"
      }
    },
    {
      "cell_type": "code",
      "execution_count": null,
      "metadata": {
        "id": "HVa_Q0QBMsOv"
      },
      "outputs": [],
      "source": [
        "# Data manipulation\n",
        "import pandas as pd\n",
        "import numpy as np\n",
        "\n",
        "# Data visualization\n",
        "import matplotlib.pyplot as plt\n",
        "import seaborn as sns\n",
        "\n",
        "# Preprocessing\n",
        "from sklearn.preprocessing import StandardScaler, LabelEncoder\n",
        "\n",
        "# Dimensionality reduction & clustering\n",
        "from sklearn.decomposition import PCA\n",
        "from sklearn.cluster import DBSCAN\n",
        "from sklearn.metrics import silhouette_score\n",
        "\n",
        "# Model selection & evaluation\n",
        "from sklearn.model_selection import train_test_split, GridSearchCV\n",
        "from sklearn.linear_model import Lasso, ElasticNet\n",
        "from sklearn.metrics import accuracy_score, classification_report, roc_auc_score\n",
        "# Deep learning\n",
        "import tensorflow as tf\n",
        "from tensorflow.keras.models import Sequential\n",
        "from tensorflow.keras.layers import Dense\n"
      ]
    },
    {
      "cell_type": "markdown",
      "source": [
        "# **2.Load Data**"
      ],
      "metadata": {
        "id": "TXsdgRWaUws5"
      }
    },
    {
      "cell_type": "code",
      "source": [
        "from google.colab import files\n",
        "import pandas as pd\n",
        "uploaded = files.upload()"
      ],
      "metadata": {
        "id": "-skNHVOqMyug"
      },
      "execution_count": null,
      "outputs": []
    },
    {
      "cell_type": "markdown",
      "source": [
        "# **3.data inspection**"
      ],
      "metadata": {
        "id": "x9n67974Ov1G"
      }
    },
    {
      "cell_type": "code",
      "source": [
        "\n",
        "# Load the uploaded CSV into a DataFrame\n",
        "df = pd.read_csv(list(uploaded.keys())[0])\n"
      ],
      "metadata": {
        "id": "3xfSTvYZNmoa"
      },
      "execution_count": null,
      "outputs": []
    },
    {
      "cell_type": "markdown",
      "source": [
        "# Check column info"
      ],
      "metadata": {
        "id": "klydyzf_mRMb"
      }
    },
    {
      "cell_type": "code",
      "source": [
        "\n",
        "df.info()"
      ],
      "metadata": {
        "id": "TgDqOhnOmOwH"
      },
      "execution_count": null,
      "outputs": []
    },
    {
      "cell_type": "markdown",
      "source": [
        "# Summary statistics"
      ],
      "metadata": {
        "id": "2eE4DWlCmOWV"
      }
    },
    {
      "cell_type": "code",
      "source": [
        "\n",
        "df.describe()"
      ],
      "metadata": {
        "id": "hJ-OoWKomYG8"
      },
      "execution_count": null,
      "outputs": []
    },
    {
      "cell_type": "markdown",
      "source": [
        "# First 5 rows"
      ],
      "metadata": {
        "id": "kUoYfQ6GmdhR"
      }
    },
    {
      "cell_type": "code",
      "source": [
        "\n",
        "df.head()\n"
      ],
      "metadata": {
        "id": "zR1iYYaOmdQS"
      },
      "execution_count": null,
      "outputs": []
    },
    {
      "cell_type": "markdown",
      "source": [
        "# columns Overview"
      ],
      "metadata": {
        "id": "r5wM2_biU4fZ"
      }
    },
    {
      "cell_type": "code",
      "source": [
        "print(df.columns)\n"
      ],
      "metadata": {
        "id": "fvZer6WRQ63Z"
      },
      "execution_count": null,
      "outputs": []
    },
    {
      "cell_type": "markdown",
      "source": [
        "#  **4.Univariate Analysis**"
      ],
      "metadata": {
        "id": "eJNWaAfj8Qid"
      }
    },
    {
      "cell_type": "markdown",
      "source": [
        "# Numerical Features"
      ],
      "metadata": {
        "id": "QCaCJ-nG9_nf"
      }
    },
    {
      "cell_type": "code",
      "source": [
        "import plotly.express as px\n",
        "\n",
        "\n",
        "num_cols = ['age', 'tenure', 'balance', 'credit_score', 'estimated_salary']\n",
        "\n",
        "for col in num_cols:\n",
        "    fig = px.histogram(df, x=col, nbins=20, marginal=\"box\",  # adds a mini box plot\n",
        "                       title=f'Distribution of {col}',\n",
        "                       template=\"plotly_white\")\n",
        "    fig.show()\n",
        "\n",
        "\n"
      ],
      "metadata": {
        "id": "Q_z9TK2Z8SN8"
      },
      "execution_count": null,
      "outputs": []
    },
    {
      "cell_type": "markdown",
      "source": [
        "# Categorical Features"
      ],
      "metadata": {
        "id": "IkyLsOmW96Sd"
      }
    },
    {
      "cell_type": "code",
      "source": [
        "\n",
        "cat_cols = ['gender', 'country', 'credit_card', 'active_member', 'products_number']\n",
        "\n",
        "for col in cat_cols:\n",
        "    fig = px.histogram(df, x=col, color='churn', barmode='group',\n",
        "                       title=f'Counts of {col} by Churn',\n",
        "                       template=\"plotly_white\")\n",
        "    fig.show()"
      ],
      "metadata": {
        "id": "yGw1UKhx94eJ"
      },
      "execution_count": null,
      "outputs": []
    },
    {
      "cell_type": "markdown",
      "source": [
        "# **5.Bivariate Analysis (Feature vs Target)**"
      ],
      "metadata": {
        "id": "vSVxvE_i9uyz"
      }
    },
    {
      "cell_type": "markdown",
      "source": [
        "# Numerical columns"
      ],
      "metadata": {
        "id": "G9fc9aeH-Pmq"
      }
    },
    {
      "cell_type": "code",
      "source": [
        "\n",
        "num_cols = ['age', 'tenure', 'balance', 'credit_score', 'estimated_salary']\n",
        "\n",
        "for col in num_cols:\n",
        "    fig = px.box(df, x='churn', y=col, color='churn',\n",
        "                 title=f'{col} vs Churn', template='plotly_white')\n",
        "    fig.show()\n"
      ],
      "metadata": {
        "id": "hbwHtkcE9wBx"
      },
      "execution_count": null,
      "outputs": []
    },
    {
      "cell_type": "markdown",
      "source": [
        "# Categorical columns"
      ],
      "metadata": {
        "id": "PMGi0Was-RtH"
      }
    },
    {
      "cell_type": "code",
      "source": [
        "\n",
        "cat_cols = ['gender', 'country', 'credit_card', 'active_member', 'products_number']\n",
        "\n",
        "for col in cat_cols:\n",
        "    fig = px.histogram(df, x=col, color='churn', barmode='group',\n",
        "                       title=f'{col} vs Churn', template='plotly_white')\n",
        "    fig.show()\n"
      ],
      "metadata": {
        "id": "POCcLQKN-SW6"
      },
      "execution_count": null,
      "outputs": []
    },
    {
      "cell_type": "markdown",
      "source": [
        "# **6.Multivariate Analysis (Multiple Features Together)**"
      ],
      "metadata": {
        "id": "YIqghOFK-cYj"
      }
    },
    {
      "cell_type": "markdown",
      "source": [
        "# Correlation Heatmap for Numerical Features"
      ],
      "metadata": {
        "id": "xd_gzH9t-d9g"
      }
    },
    {
      "cell_type": "code",
      "source": [
        "import plotly.figure_factory as ff\n",
        "import numpy as np\n",
        "\n",
        "num_cols = ['age', 'tenure', 'balance', 'credit_score', 'estimated_salary', 'churn']\n",
        "corr_matrix = df[num_cols].corr().round(2)\n",
        "\n",
        "fig = ff.create_annotated_heatmap(\n",
        "    z=corr_matrix.values,\n",
        "    x=corr_matrix.columns.tolist(),\n",
        "    y=corr_matrix.index.tolist(),\n",
        "    colorscale='Viridis',\n",
        "    showscale=True,\n",
        "    reversescale=True\n",
        ")\n",
        "fig.update_layout(title='Correlation Heatmap', template='plotly_white')\n",
        "fig.show()\n"
      ],
      "metadata": {
        "id": "3lD2mHdc-hZL"
      },
      "execution_count": null,
      "outputs": []
    },
    {
      "cell_type": "markdown",
      "source": [
        "# Pairwise Scatter Plots (Numerical Features Colored by Churn)"
      ],
      "metadata": {
        "id": "AKB0UVL8-m7-"
      }
    },
    {
      "cell_type": "code",
      "source": [
        "num_cols = ['age', 'tenure', 'balance', 'credit_score', 'estimated_salary']\n",
        "\n",
        "fig = px.scatter_matrix(df,\n",
        "                        dimensions=num_cols,\n",
        "                        color='churn',\n",
        "                        title='Pairwise Scatter Plot of Numerical Features',\n",
        "                        template='plotly_white',\n",
        "                        symbol='churn')\n",
        "fig.update_traces(diagonal_visible=False)  # optional, hides histograms on diagonal\n",
        "fig.show()\n"
      ],
      "metadata": {
        "id": "2NNga1Ds-qIg"
      },
      "execution_count": null,
      "outputs": []
    },
    {
      "cell_type": "markdown",
      "source": [
        "# Categorical vs Categorical vs Target (Churn)"
      ],
      "metadata": {
        "id": "x2lGmRwe-4MJ"
      }
    },
    {
      "cell_type": "code",
      "source": [
        "# Example: country vs gender vs churn\n",
        "fig = px.histogram(df, x='country', color='churn', barmode='group',\n",
        "                   facet_col='gender', title='Country vs Gender vs Churn',\n",
        "                   template='plotly_white')\n",
        "fig.show()\n"
      ],
      "metadata": {
        "id": "GWty0lY7-5he"
      },
      "execution_count": null,
      "outputs": []
    },
    {
      "cell_type": "markdown",
      "source": [
        "# Heatmap for Two Features vs Churn"
      ],
      "metadata": {
        "id": "gkayP_iZ_I3w"
      }
    },
    {
      "cell_type": "code",
      "source": [
        "# Pivot table: average churn by country and credit_card\n",
        "heatmap_data = df.pivot_table(values='churn', index='country', columns='credit_card', aggfunc='mean')\n",
        "\n",
        "fig = px.imshow(heatmap_data,\n",
        "                text_auto=True,\n",
        "                color_continuous_scale='Viridis',\n",
        "                title='Average Churn by Country and Credit Card Ownership')\n",
        "fig.show()\n"
      ],
      "metadata": {
        "id": "ihsf4M46_Uzb"
      },
      "execution_count": null,
      "outputs": []
    },
    {
      "cell_type": "markdown",
      "source": [
        "# 3D Scatter Plots (Three Numerical Features vs Churn)"
      ],
      "metadata": {
        "id": "IwiAqFgW_ZIY"
      }
    },
    {
      "cell_type": "code",
      "source": [
        "fig = px.scatter_3d(df, x='age', y='balance', z='tenure', color='churn',\n",
        "                    symbol='churn', title='3D Scatter: Age vs Balance vs Tenure',\n",
        "                    template='plotly_white')\n",
        "fig.show()\n"
      ],
      "metadata": {
        "id": "Z9KEdvYL_dMJ"
      },
      "execution_count": null,
      "outputs": []
    },
    {
      "cell_type": "markdown",
      "source": [
        "# Parallel Coordinates Plot"
      ],
      "metadata": {
        "id": "ty7wgM1T_kQM"
      }
    },
    {
      "cell_type": "code",
      "source": [
        "num_cols = ['age', 'tenure', 'balance', 'credit_score', 'estimated_salary']\n",
        "\n",
        "fig = px.parallel_coordinates(df, dimensions=num_cols, color='churn',\n",
        "                              color_continuous_scale=px.colors.diverging.Tealrose,\n",
        "                              title='Parallel Coordinates: Multiple Features vs Churn')\n",
        "fig.show()\n"
      ],
      "metadata": {
        "id": "Z5ltKMR-_npM"
      },
      "execution_count": null,
      "outputs": []
    },
    {
      "cell_type": "markdown",
      "source": [
        "#  **7.Feature Engineering**"
      ],
      "metadata": {
        "id": "N5_pB0GiU9wt"
      }
    },
    {
      "cell_type": "markdown",
      "source": [
        "# **Encoding categorical variables**"
      ],
      "metadata": {
        "id": "rBzkw2mgpn_R"
      }
    },
    {
      "cell_type": "code",
      "source": [
        "from sklearn.preprocessing import LabelEncoder\n",
        "from IPython.display import display"
      ],
      "metadata": {
        "id": "vHp5lga9RGjK"
      },
      "execution_count": null,
      "outputs": []
    },
    {
      "cell_type": "markdown",
      "source": [
        "\n",
        "# Encode gender"
      ],
      "metadata": {
        "id": "TPseRGAcm28c"
      }
    },
    {
      "cell_type": "code",
      "source": [
        "\n",
        "le_gender = LabelEncoder()\n",
        "df['gender'] = le_gender.fit_transform(df['gender'])\n",
        "print(\"Gender mapping:\")\n",
        "display(dict(zip(le_gender.classes_, le_gender.transform(le_gender.classes_))))"
      ],
      "metadata": {
        "id": "8q2fjyijm7aZ"
      },
      "execution_count": null,
      "outputs": []
    },
    {
      "cell_type": "markdown",
      "source": [
        "# Encode country"
      ],
      "metadata": {
        "id": "rHQ6KcC8nAYH"
      }
    },
    {
      "cell_type": "code",
      "source": [
        "\n",
        "le_country = LabelEncoder()\n",
        "df['country'] = le_country.fit_transform(df['country'])\n",
        "print(\"Country mapping:\")\n",
        "display(dict(zip(le_country.classes_, le_country.transform(le_country.classes_))))"
      ],
      "metadata": {
        "id": "xJP5S6_rnB6D"
      },
      "execution_count": null,
      "outputs": []
    },
    {
      "cell_type": "markdown",
      "source": [
        "#  Separate features and target"
      ],
      "metadata": {
        "id": "8GRZZDIeVANq"
      }
    },
    {
      "cell_type": "code",
      "source": [
        "# Features and target\n",
        "X = df.drop('churn', axis=1)\n",
        "y = df['churn']\n",
        "\n",
        "# Show shapes\n",
        "print(\"X shape:\", X.shape)\n",
        "print(\"y shape:\", y.shape)"
      ],
      "metadata": {
        "id": "nCuUV8CtRLJg"
      },
      "execution_count": null,
      "outputs": []
    },
    {
      "cell_type": "markdown",
      "source": [
        "customer features like tenure, monthly charges, contract type, etc\n",
        "\n",
        "target variables like 1 → customer churned\n",
        "\n",
        "                      0 → customer retained"
      ],
      "metadata": {
        "id": "Za_gz3s6rT-t"
      }
    },
    {
      "cell_type": "markdown",
      "source": [
        "# scaling numerical features"
      ],
      "metadata": {
        "id": "bmzlOfdDVG8G"
      }
    },
    {
      "cell_type": "code",
      "source": [
        "from sklearn.preprocessing import StandardScaler\n",
        "import pandas as pd\n",
        "\n",
        "scaler = StandardScaler()\n",
        "X_scaled = scaler.fit_transform(X)\n",
        "\n",
        "# Convert back to DataFrame for easier viewing\n",
        "X_scaled_df = pd.DataFrame(X_scaled, columns=X.columns)\n",
        "\n",
        "\n",
        "# Optional: show summary statistics to confirm scaling\n",
        "print(\"\\nScaled feature statistics:\")\n",
        "display(X_scaled_df.describe())\n"
      ],
      "metadata": {
        "id": "LP2S8LLDROiG"
      },
      "execution_count": null,
      "outputs": []
    },
    {
      "cell_type": "markdown",
      "source": [
        "# **8.Clustering with PCA + DBSCAN**"
      ],
      "metadata": {
        "id": "WzQ7V01WRcpt"
      }
    },
    {
      "cell_type": "code",
      "source": [
        "from sklearn.pipeline import Pipeline\n",
        "from sklearn.decomposition import PCA\n",
        "from sklearn.cluster import DBSCAN\n",
        "from sklearn.metrics import silhouette_score\n",
        "import matplotlib.pyplot as plt\n"
      ],
      "metadata": {
        "id": "PGfmZDh2RTeC"
      },
      "execution_count": null,
      "outputs": []
    },
    {
      "cell_type": "markdown",
      "source": [
        "# Apply PCA for Dimensionality Reduction"
      ],
      "metadata": {
        "id": "ylVlvgvRUBHs"
      }
    },
    {
      "cell_type": "code",
      "source": [
        "pca = PCA(n_components=2)\n",
        "X_pca = pca.fit_transform(X_scaled)\n",
        "\n",
        "# Explained variance ratio\n",
        "print(f\"Explained variance ratio: {pca.explained_variance_ratio_}\")\n"
      ],
      "metadata": {
        "id": "eqGGDAe5RlYN"
      },
      "execution_count": null,
      "outputs": []
    },
    {
      "cell_type": "markdown",
      "source": [
        "# Apply DBSCAN for Clustering"
      ],
      "metadata": {
        "id": "7p_syTx9UG1J"
      }
    },
    {
      "cell_type": "code",
      "source": [
        "dbscan = DBSCAN(eps=0.5, min_samples=5)\n",
        "labels = dbscan.fit_predict(X_pca)\n",
        "\n",
        "# Silhouette Score\n",
        "mask = labels != -1\n",
        "score = silhouette_score(X_pca[mask], labels[mask])\n",
        "print(f\"Silhouette Score (excluding noise): {score}\")\n"
      ],
      "metadata": {
        "id": "AbUGURZYRnd7"
      },
      "execution_count": null,
      "outputs": []
    },
    {
      "cell_type": "markdown",
      "source": [
        "#  Evaluate clustering"
      ],
      "metadata": {
        "id": "P3QWfLEYUMul"
      }
    },
    {
      "cell_type": "code",
      "source": [
        "\n",
        "# Ignore noise points (-1) for Silhouette calculation\n",
        "mask = labels != -1\n",
        "score = silhouette_score(X_pca[mask], labels[mask])\n",
        "print(f\"Silhouette Score (excluding noise): {score}\")"
      ],
      "metadata": {
        "id": "Ltf22692RseP"
      },
      "execution_count": null,
      "outputs": []
    },
    {
      "cell_type": "code",
      "source": [
        "# Inspect cluster sizes\n",
        "import numpy as np\n",
        "unique, counts = np.unique(labels, return_counts=True)\n",
        "print(\"Cluster distribution:\", dict(zip(unique, counts)))"
      ],
      "metadata": {
        "id": "T_-O1KXfRxhk"
      },
      "execution_count": null,
      "outputs": []
    },
    {
      "cell_type": "markdown",
      "source": [
        "# Visualizing Clusters and Churn Patterns\n"
      ],
      "metadata": {
        "id": "mnslbfz4SGT4"
      }
    },
    {
      "cell_type": "code",
      "source": [
        "\n",
        "plt.figure(figsize=(8,6))\n",
        "plt.scatter(X_pca[:,0], X_pca[:,1], c=labels, cmap='viridis', s=50)\n",
        "plt.title('DBSCAN Clusters (PCA Reduced)')\n",
        "plt.xlabel('PCA1')\n",
        "plt.ylabel('PCA2')\n",
        "plt.show()"
      ],
      "metadata": {
        "id": "Ihfx_3vfUhb1"
      },
      "execution_count": null,
      "outputs": []
    },
    {
      "cell_type": "code",
      "source": [
        "plt.figure(figsize=(8,6))\n",
        "plt.scatter(X_pca[:,0], X_pca[:,1], c=y, cmap='coolwarm', s=50)\n",
        "plt.title('PCA Components Colored by Churn')\n",
        "plt.xlabel('PCA1')\n",
        "plt.ylabel('PCA2')\n",
        "plt.colorbar(label='Churn (0=No, 1=Yes)')\n",
        "plt.show()\n"
      ],
      "metadata": {
        "id": "Et1ul8wGR1vH"
      },
      "execution_count": null,
      "outputs": []
    },
    {
      "cell_type": "code",
      "source": [
        "!pip install plotly -q\n",
        "import plotly.express as px\n",
        "\n"
      ],
      "metadata": {
        "id": "D0tdhomISMc3"
      },
      "execution_count": null,
      "outputs": []
    },
    {
      "cell_type": "markdown",
      "source": [
        "\n",
        "# Create a DataFrame with PCA components, cluster labels, and churn"
      ],
      "metadata": {
        "id": "oWWE-Vu0WYUY"
      }
    },
    {
      "cell_type": "code",
      "source": [
        "\n",
        "pca_df = pd.DataFrame(X_pca, columns=['PCA1', 'PCA2'])\n",
        "pca_df['Cluster'] = labels\n",
        "pca_df['Churn'] = y.values\n",
        "\n",
        "fig = px.scatter(\n",
        "    pca_df, x='PCA1', y='PCA2',\n",
        "    color='Churn',\n",
        "    symbol='Cluster',\n",
        "    hover_data=['PCA1','PCA2','Cluster','Churn'],\n",
        "    title='Interactive PCA Scatter Plot by Churn and Cluster'\n",
        ")\n",
        "fig.show()"
      ],
      "metadata": {
        "id": "hVUNg9ofWWdW"
      },
      "execution_count": null,
      "outputs": []
    },
    {
      "cell_type": "markdown",
      "source": [
        "# Compute churn rate per cluster"
      ],
      "metadata": {
        "id": "7NrdhM65WSei"
      }
    },
    {
      "cell_type": "code",
      "source": [
        "\n",
        "churn_per_cluster = pca_df.groupby('Cluster')['Churn'].mean().reset_index()\n",
        "\n",
        "fig = px.bar(\n",
        "    churn_per_cluster,\n",
        "    x='Cluster',\n",
        "    y='Churn',\n",
        "    color='Churn',\n",
        "    title='Interactive Churn Rate per Cluster',\n",
        "    labels={'Churn':'Churn Rate'}\n",
        ")\n",
        "fig.show()\n"
      ],
      "metadata": {
        "id": "J7KeUSm8Sc6e"
      },
      "execution_count": null,
      "outputs": []
    },
    {
      "cell_type": "markdown",
      "source": [
        "# Correlation matrix"
      ],
      "metadata": {
        "id": "YMjo_0DBWQnN"
      }
    },
    {
      "cell_type": "code",
      "source": [
        "\n",
        "corr_matrix = df.corr().reset_index().melt(id_vars='index')\n",
        "corr_matrix.columns = ['Feature1','Feature2','Correlation']\n",
        "\n",
        "fig = px.imshow(df.corr(), text_auto=True, aspect='auto', color_continuous_scale='RdBu_r', title='Correlation Heatmap')\n",
        "fig.show()\n"
      ],
      "metadata": {
        "id": "Salm0w7JS6nX"
      },
      "execution_count": null,
      "outputs": []
    },
    {
      "cell_type": "code",
      "source": [
        "for col in ['credit_score','age','balance','products_number','estimated_salary']:\n",
        "    fig = px.box(df, x='churn', y=col, color='churn', title=f'Interactive Boxplot: {col} vs Churn')\n",
        "    fig.show()\n"
      ],
      "metadata": {
        "id": "ua_jZa74TGh2"
      },
      "execution_count": null,
      "outputs": []
    },
    {
      "cell_type": "code",
      "source": [
        "import matplotlib.pyplot as plt\n",
        "import pandas as pd\n",
        "\n",
        "# Convert X_pca to a DataFrame for easier handling\n",
        "X_pca_df = pd.DataFrame(X_pca, columns=['PC1', 'PC2'])\n",
        "X_pca_df['churn'] = y.values  # Add target for coloring\n",
        "\n",
        "# Plot\n",
        "plt.figure(figsize=(8,6))\n",
        "colors = {0: 'blue', 1: 'red'}  # 0 = retained, 1 = churned\n",
        "plt.scatter(X_pca_df['PC1'], X_pca_df['PC2'], c=X_pca_df['churn'].map(colors), alpha=0.6)\n",
        "plt.xlabel('Principal Component 1')\n",
        "plt.ylabel('Principal Component 2')\n",
        "plt.title('2D PCA of Features')\n",
        "plt.legend(handles=[plt.Line2D([0], [0], marker='o', color='w', label='Retained', markerfacecolor='blue', markersize=8),\n",
        "                    plt.Line2D([0], [0], marker='o', color='w', label='Churned', markerfacecolor='red', markersize=8)])\n",
        "plt.grid(True)\n",
        "plt.show()\n"
      ],
      "metadata": {
        "id": "JhJJcQDiTJiz"
      },
      "execution_count": null,
      "outputs": []
    },
    {
      "cell_type": "markdown",
      "source": [
        "# **9.predictive modeling**"
      ],
      "metadata": {
        "id": "8k-gc035dFgt"
      }
    },
    {
      "cell_type": "code",
      "source": [
        "import pandas as pd\n",
        "import numpy as np\n",
        "import matplotlib.pyplot as plt\n",
        "from sklearn.model_selection import train_test_split, RandomizedSearchCV\n",
        "from sklearn.preprocessing import StandardScaler\n",
        "from sklearn.linear_model import LogisticRegression\n",
        "from sklearn.ensemble import RandomForestClassifier\n",
        "from sklearn.metrics import classification_report, confusion_matrix, roc_auc_score\n",
        "from xgboost import XGBClassifier\n",
        "import joblib"
      ],
      "metadata": {
        "id": "w08ufa2yXE9R"
      },
      "execution_count": null,
      "outputs": []
    },
    {
      "cell_type": "markdown",
      "source": [
        "# Train-test split\n"
      ],
      "metadata": {
        "id": "PfDVLCODB8qW"
      }
    },
    {
      "cell_type": "code",
      "source": [
        "\n",
        "X_train, X_test, y_train, y_test = train_test_split(\n",
        "    X_scaled, y, test_size=0.2, random_state=42, stratify=y\n",
        ")\n",
        "print(\"X_train shape:\", X_train.shape)\n",
        "print(\"X_test shape:\", X_test.shape)\n"
      ],
      "metadata": {
        "id": "XQW0FoKdcbDW"
      },
      "execution_count": null,
      "outputs": []
    },
    {
      "cell_type": "markdown",
      "source": [
        "# model1 (Logistic Regression) with Lasso (L1) & ElasticNet"
      ],
      "metadata": {
        "id": "bwvk-aKyck25"
      }
    },
    {
      "cell_type": "markdown",
      "source": [
        "# Lasso (L1)"
      ],
      "metadata": {
        "id": "3KByfVA2c8qX"
      }
    },
    {
      "cell_type": "code",
      "source": [
        "\n",
        "\n",
        "lasso = LogisticRegression(penalty='l1', solver='saga', max_iter=5000, random_state=42)\n",
        "param_grid_lasso = {'C': np.logspace(-3, 3, 7)}\n",
        "lasso_cv = RandomizedSearchCV(lasso, param_grid_lasso, cv=5, scoring='roc_auc', n_iter=7, random_state=42)\n",
        "lasso_cv.fit(X_train, y_train)\n",
        "y_pred_lasso = lasso_cv.predict(X_test)\n",
        "y_proba_lasso = lasso_cv.predict_proba(X_test)[:,1]\n",
        "\n",
        "print(\"Best parameters:\", lasso_cv.best_params_)\n",
        "print(classification_report(y_test, y_pred_lasso))\n",
        "print(\"ROC AUC:\", roc_auc_score(y_test, y_proba_lasso))\n",
        "\n",
        "\n"
      ],
      "metadata": {
        "id": "XKu0qt1Pcdb2"
      },
      "execution_count": null,
      "outputs": []
    },
    {
      "cell_type": "markdown",
      "source": [
        "#  ElasticNet"
      ],
      "metadata": {
        "id": "cmhinSjXc6Cr"
      }
    },
    {
      "cell_type": "code",
      "source": [
        "\n",
        "elastic = LogisticRegression(penalty='elasticnet', solver='saga', max_iter=5000, random_state=42)\n",
        "param_grid_elastic = {'C': np.logspace(-3,3,5), 'l1_ratio':[0.2,0.5,0.8]}\n",
        "elastic_cv = RandomizedSearchCV(elastic, param_grid_elastic, cv=5, scoring='roc_auc', n_iter=5, random_state=42)\n",
        "elastic_cv.fit(X_train, y_train)\n",
        "y_pred_elastic = elastic_cv.predict(X_test)\n",
        "y_proba_elastic = elastic_cv.predict_proba(X_test)[:,1]\n",
        "\n",
        "print(\"\\nElasticNet Best parameters:\", elastic_cv.best_params_)\n",
        "print(classification_report(y_test, y_pred_elastic))\n",
        "print(\"ROC AUC:\", roc_auc_score(y_test, y_proba_elastic))"
      ],
      "metadata": {
        "id": "0ohu_M0ccuR9"
      },
      "execution_count": null,
      "outputs": []
    },
    {
      "cell_type": "markdown",
      "source": [
        "# model 2 (Random Forest)"
      ],
      "metadata": {
        "id": "fBUEfQMidI03"
      }
    },
    {
      "cell_type": "code",
      "source": [
        "\n",
        "rf = RandomForestClassifier(random_state=42)\n",
        "param_grid_rf = {\n",
        "    'n_estimators':[100,200,300],\n",
        "    'max_depth':[None,5,10,15],\n",
        "    'min_samples_split':[2,5,10],\n",
        "    'min_samples_leaf':[1,2,4]\n",
        "}\n",
        "rf_cv = RandomizedSearchCV(rf, param_grid_rf, cv=5, scoring='roc_auc', n_iter=10, random_state=42)\n",
        "rf_cv.fit(X_train, y_train)\n",
        "y_pred_rf = rf_cv.predict(X_test)\n",
        "y_proba_rf = rf_cv.predict_proba(X_test)[:,1]\n",
        "\n",
        "print(\"Best parameters:\", rf_cv.best_params_)\n",
        "print(classification_report(y_test, y_pred_rf))\n",
        "print(\"ROC AUC:\", roc_auc_score(y_test, y_proba_rf))\n"
      ],
      "metadata": {
        "id": "o-9eWpdOc0xo"
      },
      "execution_count": null,
      "outputs": []
    },
    {
      "cell_type": "markdown",
      "source": [
        "# Feature importance"
      ],
      "metadata": {
        "id": "XnpvkueoC3QP"
      }
    },
    {
      "cell_type": "code",
      "source": [
        "\n",
        "feat_importances = pd.Series(rf_cv.best_estimator_.feature_importances_, index=X.columns)\n",
        "feat_importances.sort_values(ascending=False).plot(kind='bar', figsize=(10,5))\n",
        "plt.title(\"Random Forest Feature Importance\")\n",
        "plt.show()"
      ],
      "metadata": {
        "id": "NKq4-YW-dYZJ"
      },
      "execution_count": null,
      "outputs": []
    },
    {
      "cell_type": "markdown",
      "source": [
        "# model 3 (XGBoost)"
      ],
      "metadata": {
        "id": "PD3b3EKReHLN"
      }
    },
    {
      "cell_type": "code",
      "source": [
        "\n",
        "print(\"\\n--- XGBoost ---\")\n",
        "xgb = XGBClassifier(use_label_encoder=False, eval_metric='logloss', random_state=42)\n",
        "param_grid_xgb = {\n",
        "    'n_estimators':[100,200,300],\n",
        "    'max_depth':[3,5,7],\n",
        "    'learning_rate':[0.01,0.1,0.2],\n",
        "    'subsample':[0.7,0.8,1],\n",
        "    'colsample_bytree':[0.7,0.8,1]\n",
        "}\n",
        "xgb_cv = RandomizedSearchCV(xgb, param_grid_xgb, cv=5, scoring='roc_auc', n_iter=10, random_state=42)\n",
        "xgb_cv.fit(X_train, y_train)\n",
        "y_pred_xgb = xgb_cv.predict(X_test)\n",
        "y_proba_xgb = xgb_cv.predict_proba(X_test)[:,1]\n",
        "\n",
        "print(\"Best parameters:\", xgb_cv.best_params_)\n",
        "print(classification_report(y_test, y_pred_xgb))\n",
        "print(\"ROC AUC:\", roc_auc_score(y_test, y_proba_xgb))"
      ],
      "metadata": {
        "id": "S-MzCQDZeEJu"
      },
      "execution_count": null,
      "outputs": []
    },
    {
      "cell_type": "markdown",
      "source": [
        "# Feature importance"
      ],
      "metadata": {
        "id": "FNso5EgrDLTS"
      }
    },
    {
      "cell_type": "code",
      "source": [
        "\n",
        "from xgboost import plot_importance\n",
        "plot_importance(xgb_cv.best_estimator_, height=0.5, max_num_features=10)\n",
        "plt.show()"
      ],
      "metadata": {
        "id": "cak8z2m3eK9X"
      },
      "execution_count": null,
      "outputs": []
    },
    {
      "cell_type": "markdown",
      "source": [
        "# **10.Collect metrics for each model**"
      ],
      "metadata": {
        "id": "jnD87v-OfKUs"
      }
    },
    {
      "cell_type": "code",
      "source": [
        "# Store results in a dictionary\n",
        "results = {\n",
        "    'Model': ['Logistic Lasso', 'Logistic ElasticNet', 'Random Forest', 'XGBoost'],\n",
        "    'ROC AUC': [\n",
        "        roc_auc_score(y_test, y_proba_lasso),\n",
        "        roc_auc_score(y_test, y_proba_elastic),\n",
        "        roc_auc_score(y_test, y_proba_rf),\n",
        "        roc_auc_score(y_test, y_proba_xgb)\n",
        "    ],\n",
        "    'Accuracy': [\n",
        "        (y_pred_lasso == y_test).mean(),\n",
        "        (y_pred_elastic == y_test).mean(),\n",
        "        (y_pred_rf == y_test).mean(),\n",
        "        (y_pred_xgb == y_test).mean()\n",
        "    ],\n",
        "    'F1 Score': [\n",
        "        classification_report(y_test, y_pred_lasso, output_dict=True)['1']['f1-score'],\n",
        "        classification_report(y_test, y_pred_elastic, output_dict=True)['1']['f1-score'],\n",
        "        classification_report(y_test, y_pred_rf, output_dict=True)['1']['f1-score'],\n",
        "        classification_report(y_test, y_pred_xgb, output_dict=True)['1']['f1-score']\n",
        "    ]\n",
        "}\n",
        "\n",
        "results_df = pd.DataFrame(results)\n",
        "display(results_df)\n"
      ],
      "metadata": {
        "id": "sAJKSLoTedxy"
      },
      "execution_count": null,
      "outputs": []
    },
    {
      "cell_type": "markdown",
      "source": [
        "# Visualize ROC AUC comparison"
      ],
      "metadata": {
        "id": "iurPk2KzfRHL"
      }
    },
    {
      "cell_type": "code",
      "source": [
        "import matplotlib.pyplot as plt\n",
        "\n",
        "plt.figure(figsize=(8,5))\n",
        "plt.bar(results['Model'], results['ROC AUC'], color=['skyblue','lightgreen','salmon','orange'])\n",
        "plt.ylabel('ROC AUC')\n",
        "plt.title('Model Comparison - ROC AUC')\n",
        "plt.ylim(0,1)\n",
        "plt.show()\n"
      ],
      "metadata": {
        "id": "pLGgAbLofNM5"
      },
      "execution_count": null,
      "outputs": []
    },
    {
      "cell_type": "markdown",
      "source": [
        "# Plot ROC curves together"
      ],
      "metadata": {
        "id": "XdIsTCL9facI"
      }
    },
    {
      "cell_type": "code",
      "source": [
        "from sklearn.metrics import roc_curve, auc\n",
        "\n",
        "plt.figure(figsize=(8,6))\n",
        "\n",
        "models = {\n",
        "    'Logistic Lasso': y_proba_lasso,\n",
        "    'Logistic ElasticNet': y_proba_elastic,\n",
        "    'Random Forest': y_proba_rf,\n",
        "    'XGBoost': y_proba_xgb\n",
        "}\n",
        "\n",
        "for name, y_proba in models.items():\n",
        "    fpr, tpr, _ = roc_curve(y_test, y_proba)\n",
        "    plt.plot(fpr, tpr, label=f'{name} (AUC={auc(fpr, tpr):.3f})')\n",
        "\n",
        "plt.plot([0,1],[0,1],'k--')  # random classifier\n",
        "plt.xlabel('False Positive Rate')\n",
        "plt.ylabel('True Positive Rate')\n",
        "plt.title('ROC Curves - Model Comparison')\n",
        "plt.legend()\n",
        "plt.grid(True)\n",
        "plt.show()\n"
      ],
      "metadata": {
        "id": "7QOJPk3kfUAE"
      },
      "execution_count": null,
      "outputs": []
    },
    {
      "cell_type": "markdown",
      "source": [
        "# SHAP Explanations (Global + Individual)"
      ],
      "metadata": {
        "id": "1mZ7LJbYg8rG"
      }
    },
    {
      "cell_type": "code",
      "source": [
        "import shap\n",
        "\n",
        "# ---- For XGBoost ----\n",
        "explainer = shap.Explainer(xgb_cv.best_estimator_)\n",
        "shap_values = explainer(X_test)\n",
        "\n",
        "# Global feature importance\n",
        "shap.summary_plot(shap_values, X_test, feature_names=X.columns, plot_type=\"bar\")\n",
        "\n",
        "# Detailed visualization for individual predictions\n",
        "shap.initjs()\n",
        "shap.force_plot(explainer.expected_value, shap_values[0].values, X_test[0], feature_names=X.columns)\n"
      ],
      "metadata": {
        "id": "1T3YDmMNg38X"
      },
      "execution_count": null,
      "outputs": []
    },
    {
      "cell_type": "markdown",
      "source": [
        "# **11.Model Validation**"
      ],
      "metadata": {
        "id": "wQ5uSeZmhk3u"
      }
    },
    {
      "cell_type": "markdown",
      "source": [
        "# Confusion Matrix Analysis"
      ],
      "metadata": {
        "id": "9BA2uzw_hjKJ"
      }
    },
    {
      "cell_type": "code",
      "source": [
        "from sklearn.metrics import confusion_matrix, ConfusionMatrixDisplay\n",
        "\n",
        "# Predict on test set\n",
        "y_pred_prob = xgb_cv.best_estimator_.predict_proba(X_test)[:,1]\n",
        "y_pred_class = (y_pred_prob >= 0.5).astype(int)  # default threshold 0.5\n",
        "\n",
        "cm = confusion_matrix(y_test, y_pred_class)\n",
        "disp = ConfusionMatrixDisplay(confusion_matrix=cm, display_labels=['Retained','Churned'])\n",
        "disp.plot(cmap='Blues')\n",
        "plt.title(\"Confusion Matrix\")\n",
        "plt.show()\n"
      ],
      "metadata": {
        "id": "71cqNvQahAxD"
      },
      "execution_count": null,
      "outputs": []
    },
    {
      "cell_type": "markdown",
      "source": [
        "# Precision-Recall Curve"
      ],
      "metadata": {
        "id": "CbansBerhu3T"
      }
    },
    {
      "cell_type": "code",
      "source": [
        "from sklearn.metrics import precision_recall_curve, average_precision_score\n",
        "\n",
        "precision, recall, thresholds = precision_recall_curve(y_test, y_pred_prob)\n",
        "avg_precision = average_precision_score(y_test, y_pred_prob)\n",
        "\n",
        "plt.figure(figsize=(8,5))\n",
        "plt.plot(recall, precision, marker='.', label=f'XGBoost (AP={avg_precision:.3f})')\n",
        "plt.xlabel('Recall')\n",
        "plt.ylabel('Precision')\n",
        "plt.title('Precision-Recall Curve')\n",
        "plt.legend()\n",
        "plt.grid(True)\n",
        "plt.show()\n"
      ],
      "metadata": {
        "id": "mhrLUJCZhsA8"
      },
      "execution_count": null,
      "outputs": []
    },
    {
      "cell_type": "markdown",
      "source": [
        "# Save Your Trained Keras Model"
      ],
      "metadata": {
        "id": "kuA9537YHTf7"
      }
    },
    {
      "cell_type": "code",
      "source": [
        "from tensorflow.keras.models import Sequential\n",
        "from tensorflow.keras.layers import Dense\n",
        "\n",
        "# Example: a simple neural network model\n",
        "model = Sequential([\n",
        "    Dense(32, activation='relu', input_shape=(X_scaled.shape[1],)),\n",
        "    Dense(16, activation='relu'),\n",
        "    Dense(1, activation='sigmoid')  # output layer for binary classification\n",
        "])\n",
        "\n",
        "model.compile(optimizer='adam', loss='binary_crossentropy', metrics=['accuracy'])\n",
        "\n",
        "# Train the model\n",
        "model.fit(X_scaled, y, epochs=50, batch_size=32, validation_split=0.2)\n",
        "\n",
        "# Save the trained model as .h5\n",
        "model.save('churn_model.h5')\n",
        "print(\" Keras model saved as 'churn_model.h5'\")\n"
      ],
      "metadata": {
        "id": "3FV_R7aChxDZ"
      },
      "execution_count": null,
      "outputs": []
    },
    {
      "cell_type": "markdown",
      "source": [
        "## **Conclusion**\n",
        "\n",
        "# In this project, we built models to predict customer churn. Random Forest and XGBoost performed best with high ROC AUC (~0.86) and decent F1 scores, effectively identifying churned customers. Feature importance and SHAP analysis provided insights into key drivers of churn. A simple neural network was also trained, showing the ability to learn complex patterns. Overall, these models can help businesses proactively retain high-risk customers and reduce potential revenue loss."
      ],
      "metadata": {
        "id": "kXTdoqnFUftu"
      }
    }
  ]
}